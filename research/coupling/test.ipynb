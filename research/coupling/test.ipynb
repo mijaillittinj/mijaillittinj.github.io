{
 "cells": [
  {
   "cell_type": "code",
   "execution_count": 9,
   "metadata": {},
   "outputs": [],
   "source": [
    "import matplotlib.pyplot as plt\n",
    "import numpy as np\n",
    "import mpld3"
   ]
  },
  {
   "cell_type": "code",
   "execution_count": 65,
   "metadata": {},
   "outputs": [],
   "source": [
    "import plotly.subplots as sp\n",
    "import plotly.graph_objects as go\n",
    "import numpy as np\n",
    "\n",
    "# Create two 2D arrays\n",
    "data1 = np.random.rand(10, 10)\n",
    "data2 = np.random.rand(10, 10)\n",
    "\n",
    "# Create a subplot with 1 row and 2 columns\n",
    "fig = sp.make_subplots(rows=1, cols=2)\n",
    "\n",
    "# Create the first contour plot and add it to the subplot\n",
    "# Set showscale to False so it doesn't show its own colorbar\n",
    "contour1 = go.Contour(z=data1, coloraxis='coloraxis', showscale=False)\n",
    "fig.add_trace(contour1, row=1, col=1)\n",
    "\n",
    "# Create the second contour plot and add it to the subplot\n",
    "# Set showscale to False so it doesn't show its own colorbar\n",
    "contour2 = go.Contour(z=data2, coloraxis='coloraxis', showscale=False)\n",
    "fig.add_trace(contour2, row=1, col=2)\n",
    "\n",
    "# Create a colorbar for the 'coloraxis'\n",
    "fig.update_layout(coloraxis=dict(colorscale='Viridis', colorbar=dict(len=1, y=0.5)))\n",
    "\n",
    "# Add title and labels\n",
    "fig.update_layout(\n",
    "    xaxis1_title= r\"$r~(\\text{mm})$\",\n",
    "    yaxis1_title=r\"$z~\\text{(mm)}$\",\n",
    "    xaxis2_title= r\"$r~(\\text{mm})$\",\n",
    ")\n",
    "\n",
    "fig.update_yaxes(matches='y')\n",
    "\n",
    "# Save the plot to an HTML file\n",
    "fig.write_html('contour_subplots.html', include_mathjax='cdn')"
   ]
  },
  {
   "cell_type": "code",
   "execution_count": 22,
   "metadata": {},
   "outputs": [],
   "source": [
    "import plotly.graph_objects as go\n",
    "import numpy as np\n",
    "\n",
    "# Create a 2D array\n",
    "data = np.random.rand(10, 10)\n",
    "\n",
    "# Create a contour plot\n",
    "fig = go.Figure(data=go.Contour(z=data))\n",
    "\n",
    "# Save the plot to an HTML file\n",
    "fig.write_html('contour_plot.html')"
   ]
  },
  {
   "cell_type": "code",
   "execution_count": null,
   "metadata": {},
   "outputs": [],
   "source": []
  }
 ],
 "metadata": {
  "kernelspec": {
   "display_name": "exp-env",
   "language": "python",
   "name": "python3"
  },
  "language_info": {
   "codemirror_mode": {
    "name": "ipython",
    "version": 3
   },
   "file_extension": ".py",
   "mimetype": "text/x-python",
   "name": "python",
   "nbconvert_exporter": "python",
   "pygments_lexer": "ipython3",
   "version": "3.10.9"
  },
  "orig_nbformat": 4
 },
 "nbformat": 4,
 "nbformat_minor": 2
}
